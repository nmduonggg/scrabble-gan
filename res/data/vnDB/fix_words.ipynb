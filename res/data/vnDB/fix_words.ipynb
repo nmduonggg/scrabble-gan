{
 "cells": [
  {
   "cell_type": "code",
   "execution_count": 1,
   "metadata": {},
   "outputs": [],
   "source": [
    "import tqdm"
   ]
  },
  {
   "cell_type": "code",
   "execution_count": 8,
   "metadata": {},
   "outputs": [
    {
     "name": "stderr",
     "output_type": "stream",
     "text": [
      "  0%|          | 0/205999 [00:00<?, ?it/s]"
     ]
    },
    {
     "name": "stderr",
     "output_type": "stream",
     "text": [
      "100%|██████████| 205999/205999 [00:24<00:00, 8581.00it/s]"
     ]
    },
    {
     "name": "stdout",
     "output_type": "stream",
     "text": [
      "Done\n"
     ]
    },
    {
     "name": "stderr",
     "output_type": "stream",
     "text": [
      "\n"
     ]
    }
   ],
   "source": [
    "path = \"wrong_words.txt\"\n",
    "save = \"words.txt\"\n",
    "with open(path, 'r', encoding='utf8') as f:\n",
    "    lines = f.readlines()\n",
    "    for i, line in tqdm.tqdm(enumerate(lines), total=len(lines)):\n",
    "        split_line = line.split()\n",
    "        if len(split_line) > 0:\n",
    "            file_name, status, file_name2, label = split_line\n",
    "            if i == 0:\n",
    "                with open(save, 'w', encoding='utf8') as f2:\n",
    "                    f2.write(f\"{file_name} {status} {label}\\n\")\n",
    "            elif i == len(lines) - 1:\n",
    "                with open(save, 'a', encoding='utf8') as f2:\n",
    "                    f2.write(f\"{file_name} {status} {label}\")                \n",
    "            else:\n",
    "                with open(save, 'a', encoding='utf8') as f2:\n",
    "                    f2.write(f\"{file_name} {status} {label}\\n\")\n",
    "print(\"Done\")"
   ]
  },
  {
   "cell_type": "code",
   "execution_count": null,
   "metadata": {},
   "outputs": [],
   "source": []
  }
 ],
 "metadata": {
  "kernelspec": {
   "display_name": "Python 3",
   "language": "python",
   "name": "python3"
  },
  "language_info": {
   "codemirror_mode": {
    "name": "ipython",
    "version": 3
   },
   "file_extension": ".py",
   "mimetype": "text/x-python",
   "name": "python",
   "nbconvert_exporter": "python",
   "pygments_lexer": "ipython3",
   "version": "3.10.11"
  },
  "orig_nbformat": 4
 },
 "nbformat": 4,
 "nbformat_minor": 2
}
